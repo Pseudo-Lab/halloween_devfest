{
 "cells": [
  {
   "cell_type": "code",
   "execution_count": 1,
   "id": "aad41af1",
   "metadata": {},
   "outputs": [],
   "source": [
    "import random"
   ]
  },
  {
   "cell_type": "code",
   "execution_count": 2,
   "id": "94500f54",
   "metadata": {},
   "outputs": [],
   "source": [
    "# Returns Trick or Treat\n",
    "def trcik_or_treat():\n",
    "    if random.random() < .5:\n",
    "        return 'trick'\n",
    "    return 'treat'"
   ]
  },
  {
   "cell_type": "code",
   "execution_count": 3,
   "id": "8311d6d7",
   "metadata": {},
   "outputs": [
    {
     "data": {
      "text/plain": [
       "'treat'"
      ]
     },
     "execution_count": 3,
     "metadata": {},
     "output_type": "execute_result"
    }
   ],
   "source": [
    "trcik_or_treat()"
   ]
  }
 ],
 "metadata": {
  "kernelspec": {
   "display_name": "Python 3 (ipykernel)",
   "language": "python",
   "name": "python3"
  },
  "language_info": {
   "codemirror_mode": {
    "name": "ipython",
    "version": 3
   },
   "file_extension": ".py",
   "mimetype": "text/x-python",
   "name": "python",
   "nbconvert_exporter": "python",
   "pygments_lexer": "ipython3",
   "version": "3.8.11"
  }
 },
 "nbformat": 4,
 "nbformat_minor": 5
}
